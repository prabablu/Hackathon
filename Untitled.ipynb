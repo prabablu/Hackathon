{
 "cells": [
  {
   "cell_type": "code",
   "execution_count": 30,
   "metadata": {},
   "outputs": [
    {
     "name": "stdout",
     "output_type": "stream",
     "text": [
      "Collecting newsapi-python\n",
      "  Downloading https://files.pythonhosted.org/packages/de/9e/9050199ac7cbc755d1c49577fdaa5517901124b574264b3602a8b8028440/newsapi_python-0.2.6-py2.py3-none-any.whl\n",
      "Requirement already satisfied: requests<3.0.0 in f:\\anaconda\\lib\\site-packages (from newsapi-python) (2.22.0)\n",
      "Requirement already satisfied: certifi>=2017.4.17 in f:\\anaconda\\lib\\site-packages (from requests<3.0.0->newsapi-python) (2019.11.28)\n",
      "Requirement already satisfied: idna<2.9,>=2.5 in f:\\anaconda\\lib\\site-packages (from requests<3.0.0->newsapi-python) (2.8)\n",
      "Requirement already satisfied: chardet<3.1.0,>=3.0.2 in f:\\anaconda\\lib\\site-packages (from requests<3.0.0->newsapi-python) (3.0.4)\n",
      "Requirement already satisfied: urllib3!=1.25.0,!=1.25.1,<1.26,>=1.21.1 in f:\\anaconda\\lib\\site-packages (from requests<3.0.0->newsapi-python) (1.25.7)\n",
      "Installing collected packages: newsapi-python\n",
      "Successfully installed newsapi-python-0.2.6\n",
      "Note: you may need to restart the kernel to use updated packages.\n"
     ]
    }
   ],
   "source": [
    "pip install newsapi-python"
   ]
  },
  {
   "cell_type": "code",
   "execution_count": null,
   "metadata": {},
   "outputs": [],
   "source": [
    "from newsapi import NewsApiClient\n",
    "newsapi = NewsApiClient(api_key='82936e7eef644ae6a6feac201b6a92db')\n",
    "#all_headlines = newsapi.get_top_headlines(category='sports')\n",
    "all_articles = newsapi.get_everything(sources='bbc-news,the-verge,times-of-india',domains='bbc.co.uk,techcrunch.com,timesofindia.indiatimes.com',language='en',sort_by='relevancy',page=2)"
   ]
  }
 ],
 "metadata": {
  "kernelspec": {
   "display_name": "Python 3",
   "language": "python",
   "name": "python3"
  },
  "language_info": {
   "codemirror_mode": {
    "name": "ipython",
    "version": 3
   },
   "file_extension": ".py",
   "mimetype": "text/x-python",
   "name": "python",
   "nbconvert_exporter": "python",
   "pygments_lexer": "ipython3",
   "version": "3.7.3"
  }
 },
 "nbformat": 4,
 "nbformat_minor": 2
}
