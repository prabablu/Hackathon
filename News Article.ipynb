{
 "cells": [
  {
   "cell_type": "code",
   "execution_count": 1,
   "metadata": {},
   "outputs": [],
   "source": [
    "API_KEY = '82936e7eef644ae6a6feac201b6a92db'"
   ]
  },
  {
   "cell_type": "code",
   "execution_count": 2,
   "metadata": {},
   "outputs": [
    {
     "name": "stdout",
     "output_type": "stream",
     "text": [
      "Requirement already satisfied: newsapi-python in f:\\anaconda\\lib\\site-packages (0.2.6)\n",
      "Requirement already satisfied: requests<3.0.0 in f:\\anaconda\\lib\\site-packages (from newsapi-python) (2.22.0)\n",
      "Requirement already satisfied: urllib3!=1.25.0,!=1.25.1,<1.26,>=1.21.1 in f:\\anaconda\\lib\\site-packages (from requests<3.0.0->newsapi-python) (1.25.7)\n",
      "Requirement already satisfied: chardet<3.1.0,>=3.0.2 in f:\\anaconda\\lib\\site-packages (from requests<3.0.0->newsapi-python) (3.0.4)\n",
      "Requirement already satisfied: idna<2.9,>=2.5 in f:\\anaconda\\lib\\site-packages (from requests<3.0.0->newsapi-python) (2.8)\n",
      "Requirement already satisfied: certifi>=2017.4.17 in f:\\anaconda\\lib\\site-packages (from requests<3.0.0->newsapi-python) (2019.11.28)\n"
     ]
    }
   ],
   "source": [
    "!pip install newsapi-python"
   ]
  },
  {
   "cell_type": "code",
   "execution_count": 29,
   "metadata": {},
   "outputs": [],
   "source": [
    "from newsapi import NewsApiClient\n",
    "\n",
    "newsapi = NewsApiClient(api_key='82936e7eef644ae6a6feac201b6a92db')\n",
    "\n",
    "#\n",
    "all_headlines = newsapi.get_top_headlines(category='sports')\n",
    "\n",
    "all_articles = newsapi.get_everything(\n",
    "                                      sources='bbc-news,times-of-india',\n",
    "                                      domains='bbc.timesofindia.indiatimes.com',\n",
    "                                      language='en',\n",
    "                                      sort_by='relevancy',\n",
    "                                      page=2)\n",
    "\n",
    "sources = newsapi.get_sources()"
   ]
  },
  {
   "cell_type": "code",
   "execution_count": 28,
   "metadata": {},
   "outputs": [
    {
     "name": "stdout",
     "output_type": "stream",
     "text": [
      "Six Nations: Which opposition player would coaches like in their team?\n",
      "BBC Sport ask Six Nations head coaches Gregor Townsend, Andy Farrell, Wayne Pivac and Eddie Jones if they could steal an opposition player, who would it be?\n",
      "Source: https://www.bbc.co.uk/sport/av/rugby-union/51269637\n",
      "\n",
      "\n",
      "Australian Open 2020: Nick Kyrgios says he has 'made progress' after losing to Rafael Nadal\n",
      "Nick Kyrgios says he has \"made progress as a human\" after his Australian Open ended with an honourable defeat by Spanish top seed Rafael Nadal.\n",
      "Source: https://www.bbc.co.uk/sport/tennis/51269033\n",
      "\n",
      "\n",
      "Iranian aircraft slides onto highway after pilot 'misses' runway\n",
      "The Caspian Airlines plane carrying 135 passengers ended up in the middle of a public street.\n",
      "Source: https://www.bbc.co.uk/news/world-middle-east-51261549\n",
      "\n",
      "\n",
      "2020/01/27 08:00 GMT\n",
      "The latest five minute news bulletin from BBC World Service.\n",
      "Source: https://www.bbc.co.uk/programmes/w172wy0src13g1w\n",
      "\n",
      "\n",
      "2020/01/27 07:00 GMT\n",
      "The latest five minute news bulletin from BBC World Service.\n",
      "Source: https://www.bbc.co.uk/programmes/w172wy0src13b9r\n",
      "\n",
      "\n",
      "Scottish Premiership: Tickets sales comprise 43% of revenue\n",
      "Scottish Premiership clubs earn a greater percentage of their income from gate receipts than any other league in Europe, according to Uefa's latest Club Licensing Benchmark report.\n",
      "Source: https://www.bbc.co.uk/sport/football/51177558\n",
      "\n",
      "\n",
      "2020/01/27 11:00 GMT\n",
      "The latest five minute news bulletin from BBC World Service.\n",
      "Source: https://www.bbc.co.uk/programmes/w172wy0src13t98\n",
      "\n",
      "\n",
      "Rockets hit US embassy in Baghdad amid protests\n",
      "There are reports that three people were injured when rockets hit the embassy in the Iraqi capital.\n",
      "Source: https://www.bbc.co.uk/news/world-middle-east-51259295\n",
      "\n",
      "\n",
      "Global Talent visa: New system to keep UK 'open to talented scientists'\n",
      "Boris Johnson hails the UK as \"open to the most talented minds\" with quicker route in for scientists.\n",
      "Source: https://www.bbc.co.uk/news/science-environment-51258068\n",
      "\n",
      "\n",
      "2020/01/27 03:00 GMT\n",
      "The latest five minute news bulletin from BBC World Service.\n",
      "Source: https://www.bbc.co.uk/programmes/w172wy0src12vb7\n",
      "\n",
      "\n"
     ]
    }
   ],
   "source": [
    "articles = all_articles['articles']\n",
    "for i in range(10):\n",
    "    print(articles[i]['title'])\n",
    "    print(articles[i]['description'])\n",
    "    print('Source:',articles[i]['url'])\n",
    "    print('\\n')"
   ]
  },
  {
   "cell_type": "code",
   "execution_count": 30,
   "metadata": {},
   "outputs": [
    {
     "data": {
      "text/plain": [
       "\"Australian Open 2020: Nick Kyrgios says he has 'made progress' after losing to Rafael Nadal\""
      ]
     },
     "execution_count": 30,
     "metadata": {},
     "output_type": "execute_result"
    }
   ],
   "source": [
    "articles[1]['title']"
   ]
  },
  {
   "cell_type": "code",
   "execution_count": 31,
   "metadata": {},
   "outputs": [
    {
     "name": "stdout",
     "output_type": "stream",
     "text": [
      "Enter news category (business/entertainment/general/health/science/sports/technology):sports\n",
      "\n",
      " India vs New Zealand Live Score, Women's T20 World Cup: Taniya Bhatia falls after strong stand with Shafali Verma - India Today\n",
      "Source: https://www.indiatoday.in/sports/story/india-w-vs-new-zealand-w-live-score-icc-womens-t20-world-cup-2020-ind-nz-1650385-2020-02-27\n",
      "\n",
      " What's behind Jasprit Bumrah's dip in form? | ESPNcricinfo.com - ESPNcricinfo\n",
      "Source: https://www.espncricinfo.com/story/_/id/28789613/jasprit-bumrah-dip-form\n",
      "\n",
      " Three answers and three questions from the Manchester City first leg loss - Managing Madrid\n",
      "Source: https://www.managingmadrid.com/2020/2/27/21155389/three-answers-and-three-questions-from-real-madrid-manchester-city-first-leg-loss\n",
      "\n",
      " Barcelona defender Gerard Pique expected to be fit for El Clasico - Barca Blaugranes\n",
      "Source: https://www.barcablaugranes.com/barcelona-la-liga/2020/2/27/21154993/gerard-pique-expected-to-be-fit-for-el-clasico\n",
      "\n",
      " LeBron James to miss Lakers game Thursday with sore groin - ESPN India\n",
      "Source: https://www.espn.in/nba/story/_/id/28788999/lebron-james-miss-lakers-game-thursday-sore-groin\n",
      "\n",
      " De Gea future uncertain ahead of Man Utd summer transfer window - Goal India\n",
      "Source: https://www.sportingnews.com/ca/soccer\n",
      "\n",
      " Trophyless Kane is proof Aubameyang is world class - Arteta - Goal India\n",
      "Source: https://www.sportingnews.com/ca/soccer\n",
      "\n",
      " Lyon 1-0 Juventus Champions League Player Ratings - JuveFC\n",
      "Source: https://www.juvefc.com/lyon-1-0-juventus-champions-league-player-ratings/\n",
      "\n",
      " \"Maria Sharapova's Brand Exceeds Her Tennis Achievements\" - Novak Djokovic - Essentially Sports\n",
      "Source: https://www.essentiallysports.com/tennis-news-wta-atp-maria-sharapovas-brand-exceeds-her-tennis-achievements-novak-djokovic/\n",
      "\n",
      " Champions League round-up: Manchester City topple Real Madrid, Lyon stun Juventus - The Indian Express\n",
      "Source: https://indianexpress.com/article/sports/football/manchester-city-topple-real-madrid-lyon-stun-juventus-champions-league-round-up-6288540/\n",
      "\n",
      " Quinton de Kock stumped for answers as South Africa fluff their lines again - ESPNcricinfo\n",
      "Source: https://www.espncricinfo.com/story/_/id/28788064/quinton-de-kock-stumped-answers-south-africa-fluff-their-lines-again\n",
      "\n",
      " Rafael Nadal Denies Novak Djokovic's 'Big 3' WhatsApp Group Claim - Essentially Sports\n",
      "Source: https://www.essentiallysports.com/rafael-nadal-denies-novak-djokovic-big-three-whatsapp-group-claim-atp-tennis-news/\n",
      "\n",
      " \"Australians See Him Having A Little Bit Of That Aussie Spirit\"- Ashleigh Barty On Novak Djokovic - Essentially Sports\n",
      "Source: https://www.essentiallysports.com/australians-see-him-having-a-little-bit-of-that-aussie-spirit-ashleigh-barty-on-novak-djokovic-wta-tennis-news/\n",
      "\n",
      " Shafali Verma: Batting with a licence to thrill - Hindustan Times\n",
      "Source: https://www.hindustantimes.com/cricket/shafali-verma-batting-with-a-licence-to-thrill/story-KKZXsjF63Mna4PfevKasWL.html\n",
      "\n",
      " Ronaldo, Real Madrid best Messi, Barca in 2013 Copa del Rey semis: Reaction & Analysis | FC Archive - ESPN UK\n",
      "Source: https://www.youtube.com/watch?v=EkMSSqJNyHI\n",
      "\n",
      " Record-breaking Sri Lankan batting delivers series win with 161-run victory - International Cricket Council\n",
      "Source: https://www.icc-cricket.com/news/1625848/record-breaking-sri-lankan-batting-delivers-series-win-with-161-run-victory\n",
      "\n",
      " Will Fernando Alonso Win the Triple Crown in 2020? - Essentially Sports\n",
      "Source: https://www.essentiallysports.com/will-fernando-alonso-win-the-triple-crown-in-2020/\n",
      "\n",
      " Yuzvendra Chahal Releases TikTok Video Featuring Rohit Sharma and Khaleel Ahmed - Essentially Sports\n",
      "Source: https://www.essentiallysports.com/cricket-news-yuzvendra-chahal-releases-tiktok-video-featuring-rohit-sharma-and-khaleel-ahmed/\n",
      "\n",
      " Is Antoine Griezmann the clutch forward Barcelona were missing? - Barca Blaugranes\n",
      "Source: https://www.barcablaugranes.com/2020/2/26/21154341/is-antoine-griezmann-the-clutch-forward-barcelona-were-missing\n",
      "\n",
      " Details emerge on raid of Leroy Sané’s new agent - Bavarian Football Works\n",
      "Source: https://www.bavarianfootballworks.com/2020/2/26/21153829/bayern-munich-leroy-sane-agent-fali-ramadani-lian-sports-primus-money-laundering-tax-evasion\n"
     ]
    }
   ],
   "source": [
    "cat = input('Enter news category (business/entertainment/general/health/science/sports/technology):')\n",
    "\n",
    "all_headlines = newsapi.get_top_headlines(category=cat,language='en',country='in',page=1)\n",
    "top_headlines = all_headlines['articles']\n",
    "for i in range(20):\n",
    "    print('\\n',top_headlines[i]['title'])\n",
    "    print('Source:',top_headlines[i]['url'])"
   ]
  },
  {
   "cell_type": "code",
   "execution_count": 21,
   "metadata": {},
   "outputs": [],
   "source": [
    "urls=[]\n",
    "urls_description=[]\n",
    "for i in range(10):\n",
    "    urls_description.append(top_headlines[i]['title'])\n",
    "    urls.append(top_headlines[i]['url'])"
   ]
  },
  {
   "cell_type": "code",
   "execution_count": 22,
   "metadata": {},
   "outputs": [
    {
     "data": {
      "text/plain": [
       "['https://www.managingmadrid.com/2020/2/27/21155389/three-answers-and-three-questions-from-real-madrid-manchester-city-first-leg-loss',\n",
       " 'https://www.espn.in/nba/story/_/id/28788999/lebron-james-miss-lakers-game-thursday-sore-groin',\n",
       " 'https://www.sportingnews.com/ca/soccer',\n",
       " 'https://www.sportingnews.com/ca/soccer',\n",
       " 'https://www.essentiallysports.com/tennis-news-wta-atp-maria-sharapovas-brand-exceeds-her-tennis-achievements-novak-djokovic/',\n",
       " 'https://www.espncricinfo.com/story/_/id/28788064/quinton-de-kock-stumped-answers-south-africa-fluff-their-lines-again',\n",
       " 'https://www.youtube.com/watch?v=ICbPyCMPwIo',\n",
       " 'https://www.essentiallysports.com/australians-see-him-having-a-little-bit-of-that-aussie-spirit-ashleigh-barty-on-novak-djokovic-wta-tennis-news/',\n",
       " 'https://www.sportingnews.com/ca/soccer',\n",
       " 'https://news.google.com/__i/rss/rd/articles/CBMiXWh0dHBzOi8vd3d3LmNyaWNidXp6LmNvbS9jcmlja2V0LW5ld3MvMTEyNDYwL3RhbnZpci1yb3NzdW93LXN0YXItaW4tbXVsdGFucy10YWJsZS10b3BwaW5nLXdpbtIBX2h0dHBzOi8vbS5jcmljYnV6ei5jb20vYW1wL2NyaWNrZXQtbmV3cy8xMTI0NjAvdGFudmlyLXJvc3N1b3ctc3Rhci1pbi1tdWx0YW5zLXRhYmxlLXRvcHBpbmctd2lu?oc=5']"
      ]
     },
     "execution_count": 22,
     "metadata": {},
     "output_type": "execute_result"
    }
   ],
   "source": []
  },
  {
   "cell_type": "code",
   "execution_count": 32,
   "metadata": {},
   "outputs": [
    {
     "ename": "LookupError",
     "evalue": "\n**********************************************************************\n  Resource \u001b[93mpunkt\u001b[0m not found.\n  Please use the NLTK Downloader to obtain the resource:\n\n  \u001b[31m>>> import nltk\n  >>> nltk.download('punkt')\n  \u001b[0m\n  For more information see: https://www.nltk.org/data.html\n\n  Attempted to load \u001b[93mtokenizers/punkt/english.pickle\u001b[0m\n\n  Searched in:\n    - 'C:\\\\Users\\\\BABLU/nltk_data'\n    - 'F:\\\\anaconda\\\\nltk_data'\n    - 'F:\\\\anaconda\\\\share\\\\nltk_data'\n    - 'F:\\\\anaconda\\\\lib\\\\nltk_data'\n    - 'C:\\\\Users\\\\BABLU\\\\AppData\\\\Roaming\\\\nltk_data'\n    - 'C:\\\\nltk_data'\n    - 'D:\\\\nltk_data'\n    - 'E:\\\\nltk_data'\n    - ''\n**********************************************************************\n",
     "output_type": "error",
     "traceback": [
      "\u001b[1;31m---------------------------------------------------------------------------\u001b[0m",
      "\u001b[1;31mLookupError\u001b[0m                               Traceback (most recent call last)",
      "\u001b[1;32m<ipython-input-32-507617dfe629>\u001b[0m in \u001b[0;36m<module>\u001b[1;34m\u001b[0m\n\u001b[0;32m     14\u001b[0m \u001b[1;33m\u001b[0m\u001b[0m\n\u001b[0;32m     15\u001b[0m \u001b[1;31m#To perform natural language processing ie..nlp\u001b[0m\u001b[1;33m\u001b[0m\u001b[1;33m\u001b[0m\u001b[1;33m\u001b[0m\u001b[0m\n\u001b[1;32m---> 16\u001b[1;33m \u001b[0mtoi_article\u001b[0m\u001b[1;33m.\u001b[0m\u001b[0mnlp\u001b[0m\u001b[1;33m(\u001b[0m\u001b[1;33m)\u001b[0m\u001b[1;33m\u001b[0m\u001b[1;33m\u001b[0m\u001b[0m\n\u001b[0m\u001b[0;32m     17\u001b[0m \u001b[1;33m\u001b[0m\u001b[0m\n\u001b[0;32m     18\u001b[0m \u001b[1;31m#To extract title\u001b[0m\u001b[1;33m\u001b[0m\u001b[1;33m\u001b[0m\u001b[1;33m\u001b[0m\u001b[0m\n",
      "\u001b[1;32mF:\\anaconda\\lib\\site-packages\\newspaper\\article.py\u001b[0m in \u001b[0;36mnlp\u001b[1;34m(self)\u001b[0m\n\u001b[0;32m    359\u001b[0m         \u001b[0mmax_sents\u001b[0m \u001b[1;33m=\u001b[0m \u001b[0mself\u001b[0m\u001b[1;33m.\u001b[0m\u001b[0mconfig\u001b[0m\u001b[1;33m.\u001b[0m\u001b[0mMAX_SUMMARY_SENT\u001b[0m\u001b[1;33m\u001b[0m\u001b[1;33m\u001b[0m\u001b[0m\n\u001b[0;32m    360\u001b[0m \u001b[1;33m\u001b[0m\u001b[0m\n\u001b[1;32m--> 361\u001b[1;33m         \u001b[0msummary_sents\u001b[0m \u001b[1;33m=\u001b[0m \u001b[0mnlp\u001b[0m\u001b[1;33m.\u001b[0m\u001b[0msummarize\u001b[0m\u001b[1;33m(\u001b[0m\u001b[0mtitle\u001b[0m\u001b[1;33m=\u001b[0m\u001b[0mself\u001b[0m\u001b[1;33m.\u001b[0m\u001b[0mtitle\u001b[0m\u001b[1;33m,\u001b[0m \u001b[0mtext\u001b[0m\u001b[1;33m=\u001b[0m\u001b[0mself\u001b[0m\u001b[1;33m.\u001b[0m\u001b[0mtext\u001b[0m\u001b[1;33m,\u001b[0m \u001b[0mmax_sents\u001b[0m\u001b[1;33m=\u001b[0m\u001b[0mmax_sents\u001b[0m\u001b[1;33m)\u001b[0m\u001b[1;33m\u001b[0m\u001b[1;33m\u001b[0m\u001b[0m\n\u001b[0m\u001b[0;32m    362\u001b[0m         \u001b[0msummary\u001b[0m \u001b[1;33m=\u001b[0m \u001b[1;34m'\\n'\u001b[0m\u001b[1;33m.\u001b[0m\u001b[0mjoin\u001b[0m\u001b[1;33m(\u001b[0m\u001b[0msummary_sents\u001b[0m\u001b[1;33m)\u001b[0m\u001b[1;33m\u001b[0m\u001b[1;33m\u001b[0m\u001b[0m\n\u001b[0;32m    363\u001b[0m         \u001b[0mself\u001b[0m\u001b[1;33m.\u001b[0m\u001b[0mset_summary\u001b[0m\u001b[1;33m(\u001b[0m\u001b[0msummary\u001b[0m\u001b[1;33m)\u001b[0m\u001b[1;33m\u001b[0m\u001b[1;33m\u001b[0m\u001b[0m\n",
      "\u001b[1;32mF:\\anaconda\\lib\\site-packages\\newspaper\\nlp.py\u001b[0m in \u001b[0;36msummarize\u001b[1;34m(url, title, text, max_sents)\u001b[0m\n\u001b[0;32m     43\u001b[0m \u001b[1;33m\u001b[0m\u001b[0m\n\u001b[0;32m     44\u001b[0m     \u001b[0msummaries\u001b[0m \u001b[1;33m=\u001b[0m \u001b[1;33m[\u001b[0m\u001b[1;33m]\u001b[0m\u001b[1;33m\u001b[0m\u001b[1;33m\u001b[0m\u001b[0m\n\u001b[1;32m---> 45\u001b[1;33m     \u001b[0msentences\u001b[0m \u001b[1;33m=\u001b[0m \u001b[0msplit_sentences\u001b[0m\u001b[1;33m(\u001b[0m\u001b[0mtext\u001b[0m\u001b[1;33m)\u001b[0m\u001b[1;33m\u001b[0m\u001b[1;33m\u001b[0m\u001b[0m\n\u001b[0m\u001b[0;32m     46\u001b[0m     \u001b[0mkeys\u001b[0m \u001b[1;33m=\u001b[0m \u001b[0mkeywords\u001b[0m\u001b[1;33m(\u001b[0m\u001b[0mtext\u001b[0m\u001b[1;33m)\u001b[0m\u001b[1;33m\u001b[0m\u001b[1;33m\u001b[0m\u001b[0m\n\u001b[0;32m     47\u001b[0m     \u001b[0mtitleWords\u001b[0m \u001b[1;33m=\u001b[0m \u001b[0msplit_words\u001b[0m\u001b[1;33m(\u001b[0m\u001b[0mtitle\u001b[0m\u001b[1;33m)\u001b[0m\u001b[1;33m\u001b[0m\u001b[1;33m\u001b[0m\u001b[0m\n",
      "\u001b[1;32mF:\\anaconda\\lib\\site-packages\\newspaper\\nlp.py\u001b[0m in \u001b[0;36msplit_sentences\u001b[1;34m(text)\u001b[0m\n\u001b[0;32m    155\u001b[0m     \"\"\"\n\u001b[0;32m    156\u001b[0m     \u001b[1;32mimport\u001b[0m \u001b[0mnltk\u001b[0m\u001b[1;33m.\u001b[0m\u001b[0mdata\u001b[0m\u001b[1;33m\u001b[0m\u001b[1;33m\u001b[0m\u001b[0m\n\u001b[1;32m--> 157\u001b[1;33m     \u001b[0mtokenizer\u001b[0m \u001b[1;33m=\u001b[0m \u001b[0mnltk\u001b[0m\u001b[1;33m.\u001b[0m\u001b[0mdata\u001b[0m\u001b[1;33m.\u001b[0m\u001b[0mload\u001b[0m\u001b[1;33m(\u001b[0m\u001b[1;34m'tokenizers/punkt/english.pickle'\u001b[0m\u001b[1;33m)\u001b[0m\u001b[1;33m\u001b[0m\u001b[1;33m\u001b[0m\u001b[0m\n\u001b[0m\u001b[0;32m    158\u001b[0m \u001b[1;33m\u001b[0m\u001b[0m\n\u001b[0;32m    159\u001b[0m     \u001b[0msentences\u001b[0m \u001b[1;33m=\u001b[0m \u001b[0mtokenizer\u001b[0m\u001b[1;33m.\u001b[0m\u001b[0mtokenize\u001b[0m\u001b[1;33m(\u001b[0m\u001b[0mtext\u001b[0m\u001b[1;33m)\u001b[0m\u001b[1;33m\u001b[0m\u001b[1;33m\u001b[0m\u001b[0m\n",
      "\u001b[1;32mF:\\anaconda\\lib\\site-packages\\nltk\\data.py\u001b[0m in \u001b[0;36mload\u001b[1;34m(resource_url, format, cache, verbose, logic_parser, fstruct_reader, encoding)\u001b[0m\n\u001b[0;32m    866\u001b[0m \u001b[1;33m\u001b[0m\u001b[0m\n\u001b[0;32m    867\u001b[0m     \u001b[1;31m# Load the resource.\u001b[0m\u001b[1;33m\u001b[0m\u001b[1;33m\u001b[0m\u001b[1;33m\u001b[0m\u001b[0m\n\u001b[1;32m--> 868\u001b[1;33m     \u001b[0mopened_resource\u001b[0m \u001b[1;33m=\u001b[0m \u001b[0m_open\u001b[0m\u001b[1;33m(\u001b[0m\u001b[0mresource_url\u001b[0m\u001b[1;33m)\u001b[0m\u001b[1;33m\u001b[0m\u001b[1;33m\u001b[0m\u001b[0m\n\u001b[0m\u001b[0;32m    869\u001b[0m \u001b[1;33m\u001b[0m\u001b[0m\n\u001b[0;32m    870\u001b[0m     \u001b[1;32mif\u001b[0m \u001b[0mformat\u001b[0m \u001b[1;33m==\u001b[0m \u001b[1;34m'raw'\u001b[0m\u001b[1;33m:\u001b[0m\u001b[1;33m\u001b[0m\u001b[1;33m\u001b[0m\u001b[0m\n",
      "\u001b[1;32mF:\\anaconda\\lib\\site-packages\\nltk\\data.py\u001b[0m in \u001b[0;36m_open\u001b[1;34m(resource_url)\u001b[0m\n\u001b[0;32m    991\u001b[0m \u001b[1;33m\u001b[0m\u001b[0m\n\u001b[0;32m    992\u001b[0m     \u001b[1;32mif\u001b[0m \u001b[0mprotocol\u001b[0m \u001b[1;32mis\u001b[0m \u001b[1;32mNone\u001b[0m \u001b[1;32mor\u001b[0m \u001b[0mprotocol\u001b[0m\u001b[1;33m.\u001b[0m\u001b[0mlower\u001b[0m\u001b[1;33m(\u001b[0m\u001b[1;33m)\u001b[0m \u001b[1;33m==\u001b[0m \u001b[1;34m'nltk'\u001b[0m\u001b[1;33m:\u001b[0m\u001b[1;33m\u001b[0m\u001b[1;33m\u001b[0m\u001b[0m\n\u001b[1;32m--> 993\u001b[1;33m         \u001b[1;32mreturn\u001b[0m \u001b[0mfind\u001b[0m\u001b[1;33m(\u001b[0m\u001b[0mpath_\u001b[0m\u001b[1;33m,\u001b[0m \u001b[0mpath\u001b[0m \u001b[1;33m+\u001b[0m \u001b[1;33m[\u001b[0m\u001b[1;34m''\u001b[0m\u001b[1;33m]\u001b[0m\u001b[1;33m)\u001b[0m\u001b[1;33m.\u001b[0m\u001b[0mopen\u001b[0m\u001b[1;33m(\u001b[0m\u001b[1;33m)\u001b[0m\u001b[1;33m\u001b[0m\u001b[1;33m\u001b[0m\u001b[0m\n\u001b[0m\u001b[0;32m    994\u001b[0m     \u001b[1;32melif\u001b[0m \u001b[0mprotocol\u001b[0m\u001b[1;33m.\u001b[0m\u001b[0mlower\u001b[0m\u001b[1;33m(\u001b[0m\u001b[1;33m)\u001b[0m \u001b[1;33m==\u001b[0m \u001b[1;34m'file'\u001b[0m\u001b[1;33m:\u001b[0m\u001b[1;33m\u001b[0m\u001b[1;33m\u001b[0m\u001b[0m\n\u001b[0;32m    995\u001b[0m         \u001b[1;31m# urllib might not use mode='rb', so handle this one ourselves:\u001b[0m\u001b[1;33m\u001b[0m\u001b[1;33m\u001b[0m\u001b[1;33m\u001b[0m\u001b[0m\n",
      "\u001b[1;32mF:\\anaconda\\lib\\site-packages\\nltk\\data.py\u001b[0m in \u001b[0;36mfind\u001b[1;34m(resource_name, paths)\u001b[0m\n\u001b[0;32m    699\u001b[0m     \u001b[0msep\u001b[0m \u001b[1;33m=\u001b[0m \u001b[1;34m'*'\u001b[0m \u001b[1;33m*\u001b[0m \u001b[1;36m70\u001b[0m\u001b[1;33m\u001b[0m\u001b[1;33m\u001b[0m\u001b[0m\n\u001b[0;32m    700\u001b[0m     \u001b[0mresource_not_found\u001b[0m \u001b[1;33m=\u001b[0m \u001b[1;34m'\\n%s\\n%s\\n%s\\n'\u001b[0m \u001b[1;33m%\u001b[0m \u001b[1;33m(\u001b[0m\u001b[0msep\u001b[0m\u001b[1;33m,\u001b[0m \u001b[0mmsg\u001b[0m\u001b[1;33m,\u001b[0m \u001b[0msep\u001b[0m\u001b[1;33m)\u001b[0m\u001b[1;33m\u001b[0m\u001b[1;33m\u001b[0m\u001b[0m\n\u001b[1;32m--> 701\u001b[1;33m     \u001b[1;32mraise\u001b[0m \u001b[0mLookupError\u001b[0m\u001b[1;33m(\u001b[0m\u001b[0mresource_not_found\u001b[0m\u001b[1;33m)\u001b[0m\u001b[1;33m\u001b[0m\u001b[1;33m\u001b[0m\u001b[0m\n\u001b[0m\u001b[0;32m    702\u001b[0m \u001b[1;33m\u001b[0m\u001b[0m\n\u001b[0;32m    703\u001b[0m \u001b[1;33m\u001b[0m\u001b[0m\n",
      "\u001b[1;31mLookupError\u001b[0m: \n**********************************************************************\n  Resource \u001b[93mpunkt\u001b[0m not found.\n  Please use the NLTK Downloader to obtain the resource:\n\n  \u001b[31m>>> import nltk\n  >>> nltk.download('punkt')\n  \u001b[0m\n  For more information see: https://www.nltk.org/data.html\n\n  Attempted to load \u001b[93mtokenizers/punkt/english.pickle\u001b[0m\n\n  Searched in:\n    - 'C:\\\\Users\\\\BABLU/nltk_data'\n    - 'F:\\\\anaconda\\\\nltk_data'\n    - 'F:\\\\anaconda\\\\share\\\\nltk_data'\n    - 'F:\\\\anaconda\\\\lib\\\\nltk_data'\n    - 'C:\\\\Users\\\\BABLU\\\\AppData\\\\Roaming\\\\nltk_data'\n    - 'C:\\\\nltk_data'\n    - 'D:\\\\nltk_data'\n    - 'E:\\\\nltk_data'\n    - ''\n**********************************************************************\n"
     ]
    }
   ],
   "source": [
    "from newspaper import Article \n",
    "  \n",
    "#A new article from TOI \n",
    "url = top_headlines[0]['url']\n",
    "  \n",
    "#For different language newspaper refer above table \n",
    "toi_article = Article(url, language=\"en\") # en for English \n",
    "  \n",
    "#To download the article \n",
    "toi_article.download() \n",
    "  \n",
    "#To parse the article \n",
    "toi_article.parse() \n",
    "  \n",
    "#To perform natural language processing ie..nlp \n",
    "toi_article.nlp() \n",
    "  \n",
    "#To extract title \n",
    "print(\"Article's Title:\") \n",
    "print(toi_article.title) \n",
    "print(\"n\") \n",
    "  \n",
    "#To extract text \n",
    "print(\"Article's Text:\") \n",
    "print(toi_article.text) \n",
    "print(\"n\") \n",
    "  \n",
    "#To extract summary \n",
    "print(\"Article's Summary:\") \n",
    "print(toi_article.summary) \n",
    "print(\"n\") \n",
    "  \n",
    "#To extract keywords \n",
    "print(\"Article's Keywords:\") \n",
    "print(toi_article.keywords) "
   ]
  },
  {
   "cell_type": "code",
   "execution_count": null,
   "metadata": {},
   "outputs": [],
   "source": []
  }
 ],
 "metadata": {
  "kernelspec": {
   "display_name": "Python 3",
   "language": "python",
   "name": "python3"
  },
  "language_info": {
   "codemirror_mode": {
    "name": "ipython",
    "version": 3
   },
   "file_extension": ".py",
   "mimetype": "text/x-python",
   "name": "python",
   "nbconvert_exporter": "python",
   "pygments_lexer": "ipython3",
   "version": "3.7.3"
  }
 },
 "nbformat": 4,
 "nbformat_minor": 2
}
